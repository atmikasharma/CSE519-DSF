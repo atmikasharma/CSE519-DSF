{
 "cells": [
  {
   "cell_type": "code",
   "execution_count": 1,
   "metadata": {},
   "outputs": [],
   "source": [
    "import pandas as pd\n",
    "import numpy as np\n",
    "import matplotlib.pyplot as plt\n",
    "import pickle as pickle\n",
    "import datetime\n",
    "import seaborn as sns\n",
    "import math\n",
    "import datetime as dt\n",
    "from sklearn import linear_model\n",
    "from scipy.stats import ks_2samp\n",
    "from sklearn.preprocessing import MinMaxScaler\n",
    "from sklearn.linear_model import LinearRegression\n",
    "from sklearn.model_selection import train_test_split\n",
    "from sklearn.metrics import mean_squared_error\n",
    "from sklearn.model_selection import cross_val_score\n",
    "from scipy import stats"
   ]
  },
  {
   "cell_type": "code",
   "execution_count": 2,
   "metadata": {},
   "outputs": [
    {
     "data": {
      "text/html": [
       "<div>\n",
       "<style scoped>\n",
       "    .dataframe tbody tr th:only-of-type {\n",
       "        vertical-align: middle;\n",
       "    }\n",
       "\n",
       "    .dataframe tbody tr th {\n",
       "        vertical-align: top;\n",
       "    }\n",
       "\n",
       "    .dataframe thead th {\n",
       "        text-align: right;\n",
       "    }\n",
       "</style>\n",
       "<table border=\"1\" class=\"dataframe\">\n",
       "  <thead>\n",
       "    <tr style=\"text-align: right;\">\n",
       "      <th></th>\n",
       "      <th>key</th>\n",
       "      <th>fare_amount</th>\n",
       "      <th>pickup_datetime</th>\n",
       "      <th>pickup_longitude</th>\n",
       "      <th>pickup_latitude</th>\n",
       "      <th>dropoff_longitude</th>\n",
       "      <th>dropoff_latitude</th>\n",
       "      <th>passenger_count</th>\n",
       "    </tr>\n",
       "  </thead>\n",
       "  <tbody>\n",
       "    <tr>\n",
       "      <th>0</th>\n",
       "      <td>2009-06-15 17:26:21.0000001</td>\n",
       "      <td>4.5</td>\n",
       "      <td>2009-06-15 17:26:21 UTC</td>\n",
       "      <td>-73.844311</td>\n",
       "      <td>40.721319</td>\n",
       "      <td>-73.841610</td>\n",
       "      <td>40.712278</td>\n",
       "      <td>1</td>\n",
       "    </tr>\n",
       "    <tr>\n",
       "      <th>1</th>\n",
       "      <td>2010-01-05 16:52:16.0000002</td>\n",
       "      <td>16.9</td>\n",
       "      <td>2010-01-05 16:52:16 UTC</td>\n",
       "      <td>-74.016048</td>\n",
       "      <td>40.711303</td>\n",
       "      <td>-73.979268</td>\n",
       "      <td>40.782004</td>\n",
       "      <td>1</td>\n",
       "    </tr>\n",
       "    <tr>\n",
       "      <th>2</th>\n",
       "      <td>2011-08-18 00:35:00.00000049</td>\n",
       "      <td>5.7</td>\n",
       "      <td>2011-08-18 00:35:00 UTC</td>\n",
       "      <td>-73.982738</td>\n",
       "      <td>40.761270</td>\n",
       "      <td>-73.991242</td>\n",
       "      <td>40.750562</td>\n",
       "      <td>2</td>\n",
       "    </tr>\n",
       "    <tr>\n",
       "      <th>3</th>\n",
       "      <td>2012-04-21 04:30:42.0000001</td>\n",
       "      <td>7.7</td>\n",
       "      <td>2012-04-21 04:30:42 UTC</td>\n",
       "      <td>-73.987130</td>\n",
       "      <td>40.733143</td>\n",
       "      <td>-73.991567</td>\n",
       "      <td>40.758092</td>\n",
       "      <td>1</td>\n",
       "    </tr>\n",
       "    <tr>\n",
       "      <th>4</th>\n",
       "      <td>2010-03-09 07:51:00.000000135</td>\n",
       "      <td>5.3</td>\n",
       "      <td>2010-03-09 07:51:00 UTC</td>\n",
       "      <td>-73.968095</td>\n",
       "      <td>40.768008</td>\n",
       "      <td>-73.956655</td>\n",
       "      <td>40.783762</td>\n",
       "      <td>1</td>\n",
       "    </tr>\n",
       "  </tbody>\n",
       "</table>\n",
       "</div>"
      ],
      "text/plain": [
       "                             key  fare_amount          pickup_datetime  \\\n",
       "0    2009-06-15 17:26:21.0000001          4.5  2009-06-15 17:26:21 UTC   \n",
       "1    2010-01-05 16:52:16.0000002         16.9  2010-01-05 16:52:16 UTC   \n",
       "2   2011-08-18 00:35:00.00000049          5.7  2011-08-18 00:35:00 UTC   \n",
       "3    2012-04-21 04:30:42.0000001          7.7  2012-04-21 04:30:42 UTC   \n",
       "4  2010-03-09 07:51:00.000000135          5.3  2010-03-09 07:51:00 UTC   \n",
       "\n",
       "   pickup_longitude  pickup_latitude  dropoff_longitude  dropoff_latitude  \\\n",
       "0        -73.844311        40.721319         -73.841610         40.712278   \n",
       "1        -74.016048        40.711303         -73.979268         40.782004   \n",
       "2        -73.982738        40.761270         -73.991242         40.750562   \n",
       "3        -73.987130        40.733143         -73.991567         40.758092   \n",
       "4        -73.968095        40.768008         -73.956655         40.783762   \n",
       "\n",
       "   passenger_count  \n",
       "0                1  \n",
       "1                1  \n",
       "2                2  \n",
       "3                1  \n",
       "4                1  "
      ]
     },
     "execution_count": 2,
     "metadata": {},
     "output_type": "execute_result"
    }
   ],
   "source": [
    "# use 5 mil lines from the train dataset\n",
    "# drop NaN values\n",
    "train = pd.read_csv('train.csv', delimiter = ',', nrows = 500000)\n",
    "train = train.dropna()\n",
    "train.head()"
   ]
  },
  {
   "cell_type": "code",
   "execution_count": 3,
   "metadata": {},
   "outputs": [
    {
     "data": {
      "text/html": [
       "<div>\n",
       "<style scoped>\n",
       "    .dataframe tbody tr th:only-of-type {\n",
       "        vertical-align: middle;\n",
       "    }\n",
       "\n",
       "    .dataframe tbody tr th {\n",
       "        vertical-align: top;\n",
       "    }\n",
       "\n",
       "    .dataframe thead th {\n",
       "        text-align: right;\n",
       "    }\n",
       "</style>\n",
       "<table border=\"1\" class=\"dataframe\">\n",
       "  <thead>\n",
       "    <tr style=\"text-align: right;\">\n",
       "      <th></th>\n",
       "      <th>key</th>\n",
       "      <th>pickup_datetime</th>\n",
       "      <th>pickup_longitude</th>\n",
       "      <th>pickup_latitude</th>\n",
       "      <th>dropoff_longitude</th>\n",
       "      <th>dropoff_latitude</th>\n",
       "      <th>passenger_count</th>\n",
       "    </tr>\n",
       "  </thead>\n",
       "  <tbody>\n",
       "    <tr>\n",
       "      <th>0</th>\n",
       "      <td>2015-01-27 13:08:24.0000002</td>\n",
       "      <td>2015-01-27 13:08:24 UTC</td>\n",
       "      <td>-73.973320</td>\n",
       "      <td>40.763805</td>\n",
       "      <td>-73.981430</td>\n",
       "      <td>40.743835</td>\n",
       "      <td>1</td>\n",
       "    </tr>\n",
       "    <tr>\n",
       "      <th>1</th>\n",
       "      <td>2015-01-27 13:08:24.0000003</td>\n",
       "      <td>2015-01-27 13:08:24 UTC</td>\n",
       "      <td>-73.986862</td>\n",
       "      <td>40.719383</td>\n",
       "      <td>-73.998886</td>\n",
       "      <td>40.739201</td>\n",
       "      <td>1</td>\n",
       "    </tr>\n",
       "    <tr>\n",
       "      <th>2</th>\n",
       "      <td>2011-10-08 11:53:44.0000002</td>\n",
       "      <td>2011-10-08 11:53:44 UTC</td>\n",
       "      <td>-73.982524</td>\n",
       "      <td>40.751260</td>\n",
       "      <td>-73.979654</td>\n",
       "      <td>40.746139</td>\n",
       "      <td>1</td>\n",
       "    </tr>\n",
       "    <tr>\n",
       "      <th>3</th>\n",
       "      <td>2012-12-01 21:12:12.0000002</td>\n",
       "      <td>2012-12-01 21:12:12 UTC</td>\n",
       "      <td>-73.981160</td>\n",
       "      <td>40.767807</td>\n",
       "      <td>-73.990448</td>\n",
       "      <td>40.751635</td>\n",
       "      <td>1</td>\n",
       "    </tr>\n",
       "    <tr>\n",
       "      <th>4</th>\n",
       "      <td>2012-12-01 21:12:12.0000003</td>\n",
       "      <td>2012-12-01 21:12:12 UTC</td>\n",
       "      <td>-73.966046</td>\n",
       "      <td>40.789775</td>\n",
       "      <td>-73.988565</td>\n",
       "      <td>40.744427</td>\n",
       "      <td>1</td>\n",
       "    </tr>\n",
       "  </tbody>\n",
       "</table>\n",
       "</div>"
      ],
      "text/plain": [
       "                           key          pickup_datetime  pickup_longitude  \\\n",
       "0  2015-01-27 13:08:24.0000002  2015-01-27 13:08:24 UTC        -73.973320   \n",
       "1  2015-01-27 13:08:24.0000003  2015-01-27 13:08:24 UTC        -73.986862   \n",
       "2  2011-10-08 11:53:44.0000002  2011-10-08 11:53:44 UTC        -73.982524   \n",
       "3  2012-12-01 21:12:12.0000002  2012-12-01 21:12:12 UTC        -73.981160   \n",
       "4  2012-12-01 21:12:12.0000003  2012-12-01 21:12:12 UTC        -73.966046   \n",
       "\n",
       "   pickup_latitude  dropoff_longitude  dropoff_latitude  passenger_count  \n",
       "0        40.763805         -73.981430         40.743835                1  \n",
       "1        40.719383         -73.998886         40.739201                1  \n",
       "2        40.751260         -73.979654         40.746139                1  \n",
       "3        40.767807         -73.990448         40.751635                1  \n",
       "4        40.789775         -73.988565         40.744427                1  "
      ]
     },
     "execution_count": 3,
     "metadata": {},
     "output_type": "execute_result"
    }
   ],
   "source": [
    "test = pd.read_csv('test.csv', delimiter = ',', nrows = 1000000)\n",
    "test = test.dropna()\n",
    "test.head()"
   ]
  },
  {
   "cell_type": "raw",
   "metadata": {},
   "source": [
    "Data cleaning may involve:\n",
    "1. Getting rid of unnecessary columns\n",
    "2. Change column names for ease \n",
    "3. Clean the pickup_datetime column since all dates will be in UTC\n",
    "4. Clean pickup_datetime column to split it into data and time columns\n",
    "5. Get rid of outliers such as wrong longitude, latitude, fare amount, passenger count etc\n",
    "Assumptions:\n",
    "1. Cars can seat 7 people + 1 driver"
   ]
  },
  {
   "cell_type": "code",
   "execution_count": 4,
   "metadata": {},
   "outputs": [
    {
     "data": {
      "text/plain": [
       "Index(['key', 'fare_amount', 'pickup_datetime', 'pickup_longitude',\n",
       "       'pickup_latitude', 'dropoff_longitude', 'dropoff_latitude',\n",
       "       'passenger_count'],\n",
       "      dtype='object')"
      ]
     },
     "execution_count": 4,
     "metadata": {},
     "output_type": "execute_result"
    }
   ],
   "source": [
    "train.columns"
   ]
  },
  {
   "cell_type": "code",
   "execution_count": 5,
   "metadata": {},
   "outputs": [
    {
     "data": {
      "text/plain": [
       "Index(['key', 'pickup_datetime', 'pickup_longitude', 'pickup_latitude',\n",
       "       'dropoff_longitude', 'dropoff_latitude', 'passenger_count'],\n",
       "      dtype='object')"
      ]
     },
     "execution_count": 5,
     "metadata": {},
     "output_type": "execute_result"
    }
   ],
   "source": [
    "test.columns"
   ]
  },
  {
   "cell_type": "code",
   "execution_count": 6,
   "metadata": {
    "scrolled": true
   },
   "outputs": [
    {
     "data": {
      "text/plain": [
       "array(['2009-06-15 17:26:21 UTC', '2010-01-05 16:52:16 UTC',\n",
       "       '2011-08-18 00:35:00 UTC', ..., '2014-08-25 00:22:20 UTC',\n",
       "       '2015-01-12 12:17:32 UTC', '2010-04-12 23:46:58 UTC'], dtype=object)"
      ]
     },
     "execution_count": 6,
     "metadata": {},
     "output_type": "execute_result"
    }
   ],
   "source": [
    "# see if all date/time is in UTC\n",
    "train.pickup_datetime.unique()"
   ]
  },
  {
   "cell_type": "code",
   "execution_count": 7,
   "metadata": {},
   "outputs": [],
   "source": [
    "# Change column names for ease\n",
    "train.rename(columns={'passenger_count':'passengers','fare_amount':'fare','pickup_datetime':'dateTime','pickup_longitude':'pickLong','pickup_latitude':'pickLat','dropoff_longitude':'dropLong','dropoff_latitude':'dropLat'},inplace=True)\n",
    "# Change column names for ease\n",
    "test.rename(columns={'passenger_count':'passengers','fare_amount':'fare','pickup_datetime':'dateTime','pickup_longitude':'pickLong','pickup_latitude':'pickLat','dropoff_longitude':'dropLong','dropoff_latitude':'dropLat'},inplace=True)\n"
   ]
  },
  {
   "cell_type": "code",
   "execution_count": 8,
   "metadata": {},
   "outputs": [
    {
     "data": {
      "text/html": [
       "<div>\n",
       "<style scoped>\n",
       "    .dataframe tbody tr th:only-of-type {\n",
       "        vertical-align: middle;\n",
       "    }\n",
       "\n",
       "    .dataframe tbody tr th {\n",
       "        vertical-align: top;\n",
       "    }\n",
       "\n",
       "    .dataframe thead th {\n",
       "        text-align: right;\n",
       "    }\n",
       "</style>\n",
       "<table border=\"1\" class=\"dataframe\">\n",
       "  <thead>\n",
       "    <tr style=\"text-align: right;\">\n",
       "      <th></th>\n",
       "      <th>key</th>\n",
       "      <th>dateTime</th>\n",
       "      <th>pickLong</th>\n",
       "      <th>pickLat</th>\n",
       "      <th>dropLong</th>\n",
       "      <th>dropLat</th>\n",
       "      <th>passengers</th>\n",
       "    </tr>\n",
       "  </thead>\n",
       "  <tbody>\n",
       "    <tr>\n",
       "      <th>0</th>\n",
       "      <td>2015-01-27 13:08:24.0000002</td>\n",
       "      <td>2015-01-27 13:08:24</td>\n",
       "      <td>-73.973320</td>\n",
       "      <td>40.763805</td>\n",
       "      <td>-73.981430</td>\n",
       "      <td>40.743835</td>\n",
       "      <td>1</td>\n",
       "    </tr>\n",
       "    <tr>\n",
       "      <th>1</th>\n",
       "      <td>2015-01-27 13:08:24.0000003</td>\n",
       "      <td>2015-01-27 13:08:24</td>\n",
       "      <td>-73.986862</td>\n",
       "      <td>40.719383</td>\n",
       "      <td>-73.998886</td>\n",
       "      <td>40.739201</td>\n",
       "      <td>1</td>\n",
       "    </tr>\n",
       "    <tr>\n",
       "      <th>2</th>\n",
       "      <td>2011-10-08 11:53:44.0000002</td>\n",
       "      <td>2011-10-08 11:53:44</td>\n",
       "      <td>-73.982524</td>\n",
       "      <td>40.751260</td>\n",
       "      <td>-73.979654</td>\n",
       "      <td>40.746139</td>\n",
       "      <td>1</td>\n",
       "    </tr>\n",
       "    <tr>\n",
       "      <th>3</th>\n",
       "      <td>2012-12-01 21:12:12.0000002</td>\n",
       "      <td>2012-12-01 21:12:12</td>\n",
       "      <td>-73.981160</td>\n",
       "      <td>40.767807</td>\n",
       "      <td>-73.990448</td>\n",
       "      <td>40.751635</td>\n",
       "      <td>1</td>\n",
       "    </tr>\n",
       "    <tr>\n",
       "      <th>4</th>\n",
       "      <td>2012-12-01 21:12:12.0000003</td>\n",
       "      <td>2012-12-01 21:12:12</td>\n",
       "      <td>-73.966046</td>\n",
       "      <td>40.789775</td>\n",
       "      <td>-73.988565</td>\n",
       "      <td>40.744427</td>\n",
       "      <td>1</td>\n",
       "    </tr>\n",
       "  </tbody>\n",
       "</table>\n",
       "</div>"
      ],
      "text/plain": [
       "                           key              dateTime   pickLong    pickLat  \\\n",
       "0  2015-01-27 13:08:24.0000002  2015-01-27 13:08:24  -73.973320  40.763805   \n",
       "1  2015-01-27 13:08:24.0000003  2015-01-27 13:08:24  -73.986862  40.719383   \n",
       "2  2011-10-08 11:53:44.0000002  2011-10-08 11:53:44  -73.982524  40.751260   \n",
       "3  2012-12-01 21:12:12.0000002  2012-12-01 21:12:12  -73.981160  40.767807   \n",
       "4  2012-12-01 21:12:12.0000003  2012-12-01 21:12:12  -73.966046  40.789775   \n",
       "\n",
       "    dropLong    dropLat  passengers  \n",
       "0 -73.981430  40.743835           1  \n",
       "1 -73.998886  40.739201           1  \n",
       "2 -73.979654  40.746139           1  \n",
       "3 -73.990448  40.751635           1  \n",
       "4 -73.988565  40.744427           1  "
      ]
     },
     "execution_count": 8,
     "metadata": {},
     "output_type": "execute_result"
    }
   ],
   "source": [
    "# remove UTC from pickup_datetime column\n",
    "train['dateTime'] = train['dateTime'].map(lambda x: x.rstrip('UTC'))\n",
    "test['dateTime'] = test['dateTime'].map(lambda x: x.rstrip('UTC'))\n",
    "test.head()"
   ]
  },
  {
   "cell_type": "code",
   "execution_count": 9,
   "metadata": {},
   "outputs": [],
   "source": [
    "# # # Clean pickup_datetime column to split it into data and time columns\n",
    "# # i = nytaxi.columns.get_loc('dateTime')\n",
    "# # nytemp = nytaxi['dateTime'].str.split(\" \", expand=True)\n",
    "# # pd.concat([nytaxi.iloc[:, :i], nytemp, nytaxi.iloc[:, i+1:]], axis=1)\n",
    "# # nytaxi.head()\n",
    "# nytemp = pd.DataFrame(nytaxi.dateTime.str.split(' ',1).tolist(), columns = ['date','time'])\n",
    "# nytemp.head()\n",
    "# nytaxi = nytemp.join(nytaxi)\n",
    "# # nytaxi = nytaxi.drop(['dateTime'], axis = 1)\n",
    "# nytaxi.merge(nytemp, on='dateTime', how='left')\n",
    "# nytaxi.head()\n",
    "\n",
    "# # nytaxi[['date', 'time']] = nytaxi['dateTime'].str.split(' ', expand=True)\n",
    "# # nytaxi = nytaxi.drop('dateTime', axis=1)"
   ]
  },
  {
   "cell_type": "code",
   "execution_count": 10,
   "metadata": {},
   "outputs": [
    {
     "data": {
      "text/html": [
       "<div>\n",
       "<style scoped>\n",
       "    .dataframe tbody tr th:only-of-type {\n",
       "        vertical-align: middle;\n",
       "    }\n",
       "\n",
       "    .dataframe tbody tr th {\n",
       "        vertical-align: top;\n",
       "    }\n",
       "\n",
       "    .dataframe thead th {\n",
       "        text-align: right;\n",
       "    }\n",
       "</style>\n",
       "<table border=\"1\" class=\"dataframe\">\n",
       "  <thead>\n",
       "    <tr style=\"text-align: right;\">\n",
       "      <th></th>\n",
       "      <th>key</th>\n",
       "      <th>dateTime</th>\n",
       "      <th>pickLong</th>\n",
       "      <th>pickLat</th>\n",
       "      <th>dropLong</th>\n",
       "      <th>dropLat</th>\n",
       "      <th>passengers</th>\n",
       "      <th>time</th>\n",
       "      <th>hourOfDay</th>\n",
       "      <th>minOfDay</th>\n",
       "      <th>secOfDay</th>\n",
       "    </tr>\n",
       "  </thead>\n",
       "  <tbody>\n",
       "    <tr>\n",
       "      <th>0</th>\n",
       "      <td>2015-01-27 13:08:24.0000002</td>\n",
       "      <td>2015-01-27 13:08:24</td>\n",
       "      <td>-73.973320</td>\n",
       "      <td>40.763805</td>\n",
       "      <td>-73.981430</td>\n",
       "      <td>40.743835</td>\n",
       "      <td>1</td>\n",
       "      <td>2015-01-27 13:08:24</td>\n",
       "      <td>13</td>\n",
       "      <td>8</td>\n",
       "      <td>24</td>\n",
       "    </tr>\n",
       "    <tr>\n",
       "      <th>1</th>\n",
       "      <td>2015-01-27 13:08:24.0000003</td>\n",
       "      <td>2015-01-27 13:08:24</td>\n",
       "      <td>-73.986862</td>\n",
       "      <td>40.719383</td>\n",
       "      <td>-73.998886</td>\n",
       "      <td>40.739201</td>\n",
       "      <td>1</td>\n",
       "      <td>2015-01-27 13:08:24</td>\n",
       "      <td>13</td>\n",
       "      <td>8</td>\n",
       "      <td>24</td>\n",
       "    </tr>\n",
       "    <tr>\n",
       "      <th>2</th>\n",
       "      <td>2011-10-08 11:53:44.0000002</td>\n",
       "      <td>2011-10-08 11:53:44</td>\n",
       "      <td>-73.982524</td>\n",
       "      <td>40.751260</td>\n",
       "      <td>-73.979654</td>\n",
       "      <td>40.746139</td>\n",
       "      <td>1</td>\n",
       "      <td>2011-10-08 11:53:44</td>\n",
       "      <td>11</td>\n",
       "      <td>53</td>\n",
       "      <td>44</td>\n",
       "    </tr>\n",
       "    <tr>\n",
       "      <th>3</th>\n",
       "      <td>2012-12-01 21:12:12.0000002</td>\n",
       "      <td>2012-12-01 21:12:12</td>\n",
       "      <td>-73.981160</td>\n",
       "      <td>40.767807</td>\n",
       "      <td>-73.990448</td>\n",
       "      <td>40.751635</td>\n",
       "      <td>1</td>\n",
       "      <td>2012-12-01 21:12:12</td>\n",
       "      <td>21</td>\n",
       "      <td>12</td>\n",
       "      <td>12</td>\n",
       "    </tr>\n",
       "    <tr>\n",
       "      <th>4</th>\n",
       "      <td>2012-12-01 21:12:12.0000003</td>\n",
       "      <td>2012-12-01 21:12:12</td>\n",
       "      <td>-73.966046</td>\n",
       "      <td>40.789775</td>\n",
       "      <td>-73.988565</td>\n",
       "      <td>40.744427</td>\n",
       "      <td>1</td>\n",
       "      <td>2012-12-01 21:12:12</td>\n",
       "      <td>21</td>\n",
       "      <td>12</td>\n",
       "      <td>12</td>\n",
       "    </tr>\n",
       "  </tbody>\n",
       "</table>\n",
       "</div>"
      ],
      "text/plain": [
       "                           key              dateTime   pickLong    pickLat  \\\n",
       "0  2015-01-27 13:08:24.0000002  2015-01-27 13:08:24  -73.973320  40.763805   \n",
       "1  2015-01-27 13:08:24.0000003  2015-01-27 13:08:24  -73.986862  40.719383   \n",
       "2  2011-10-08 11:53:44.0000002  2011-10-08 11:53:44  -73.982524  40.751260   \n",
       "3  2012-12-01 21:12:12.0000002  2012-12-01 21:12:12  -73.981160  40.767807   \n",
       "4  2012-12-01 21:12:12.0000003  2012-12-01 21:12:12  -73.966046  40.789775   \n",
       "\n",
       "    dropLong    dropLat  passengers                time  hourOfDay  minOfDay  \\\n",
       "0 -73.981430  40.743835           1 2015-01-27 13:08:24         13         8   \n",
       "1 -73.998886  40.739201           1 2015-01-27 13:08:24         13         8   \n",
       "2 -73.979654  40.746139           1 2011-10-08 11:53:44         11        53   \n",
       "3 -73.990448  40.751635           1 2012-12-01 21:12:12         21        12   \n",
       "4 -73.988565  40.744427           1 2012-12-01 21:12:12         21        12   \n",
       "\n",
       "   secOfDay  \n",
       "0        24  \n",
       "1        24  \n",
       "2        44  \n",
       "3        12  \n",
       "4        12  "
      ]
     },
     "execution_count": 10,
     "metadata": {},
     "output_type": "execute_result"
    }
   ],
   "source": [
    "# Clean pickup_datetime column to split it into data and time columns\n",
    "# train['date'] = train.dateTime.str.split(' ', expand = True)[0]\n",
    "# train['time'] = train.dateTime.str.split(' ', expand = True)[1]\n",
    "# train = train.drop(['dateTime'], axis = 1)\n",
    "train['time'] = pd.to_datetime(train['dateTime'], format='%Y%m%d %H:%M:%S')\n",
    "train['hourOfDay'] = [d.hour for d in train['time']]\n",
    "train['minOfDay'] = [d.minute for d in train['time']]\n",
    "train['secOfDay'] = [d.second for d in train['time']]\n",
    "test['time'] = pd.to_datetime(test['dateTime'], format='%Y%m%d %H:%M:%S')\n",
    "test['hourOfDay'] = [d.hour for d in test['time']]\n",
    "test['minOfDay'] = [d.minute for d in test['time']]\n",
    "test['secOfDay'] = [d.second for d in test['time']]\n",
    "test.head()"
   ]
  },
  {
   "cell_type": "code",
   "execution_count": 11,
   "metadata": {},
   "outputs": [
    {
     "data": {
      "text/plain": [
       "key           499995\n",
       "fare          499995\n",
       "dateTime      499995\n",
       "pickLong      499995\n",
       "pickLat       499995\n",
       "dropLong      499995\n",
       "dropLat       499995\n",
       "passengers    499995\n",
       "time          499995\n",
       "hourOfDay     499995\n",
       "minOfDay      499995\n",
       "secOfDay      499995\n",
       "dtype: int64"
      ]
     },
     "execution_count": 11,
     "metadata": {},
     "output_type": "execute_result"
    }
   ],
   "source": [
    "# cars can seat upto 7 passengers\n",
    "train = train[train.passengers <= 7]\n",
    "test = test[test.passengers <= 7]\n",
    "# train = train[(train['pickLat'] == train['dropLat']) and (train['pickLong'] == train['dropLong'])]\n",
    "train.count()"
   ]
  },
  {
   "cell_type": "code",
   "execution_count": 12,
   "metadata": {},
   "outputs": [],
   "source": [
    "# def checkCoord(train):\n",
    "#     if train['pickLat'] == train['dropLat'] and train['pickLong'] == train['dropLong']:\n",
    "#         return True\n",
    "#     return False"
   ]
  },
  {
   "cell_type": "code",
   "execution_count": 13,
   "metadata": {},
   "outputs": [
    {
     "data": {
      "text/plain": [
       "['key',\n",
       " 'fare',\n",
       " 'dateTime',\n",
       " 'pickLong',\n",
       " 'pickLat',\n",
       " 'dropLong',\n",
       " 'dropLat',\n",
       " 'passengers',\n",
       " 'time',\n",
       " 'hourOfDay',\n",
       " 'minOfDay',\n",
       " 'secOfDay']"
      ]
     },
     "execution_count": 13,
     "metadata": {},
     "output_type": "execute_result"
    }
   ],
   "source": [
    "list(train.columns)"
   ]
  },
  {
   "cell_type": "code",
   "execution_count": 14,
   "metadata": {},
   "outputs": [
    {
     "data": {
      "text/plain": [
       "['key',\n",
       " 'dateTime',\n",
       " 'pickLong',\n",
       " 'pickLat',\n",
       " 'dropLong',\n",
       " 'dropLat',\n",
       " 'passengers',\n",
       " 'time',\n",
       " 'hourOfDay',\n",
       " 'minOfDay',\n",
       " 'secOfDay']"
      ]
     },
     "execution_count": 14,
     "metadata": {},
     "output_type": "execute_result"
    }
   ],
   "source": [
    "list(test.columns)"
   ]
  },
  {
   "cell_type": "code",
   "execution_count": 15,
   "metadata": {},
   "outputs": [],
   "source": [
    "# for column in list(train.columns):\n",
    "#     train[column] = train[column].astype(float)"
   ]
  },
  {
   "cell_type": "code",
   "execution_count": 16,
   "metadata": {},
   "outputs": [],
   "source": [
    "# removing outliers where column's are outliers based on +3 -3 standard deviation\n",
    "# for column in list(train.columns):\n",
    "#     check = train[np.abs(train[column]-train[column].mean()) <= (3*train[column].std())]\n",
    "# check.count()"
   ]
  },
  {
   "cell_type": "code",
   "execution_count": null,
   "metadata": {},
   "outputs": [],
   "source": []
  },
  {
   "cell_type": "code",
   "execution_count": 17,
   "metadata": {},
   "outputs": [],
   "source": [
    "#distance in kilometers\n",
    "def haversineDist(train):\n",
    "    pLat = math.radians(train['pickLat'])\n",
    "    pLong = math.radians(train['pickLong'])\n",
    "    dLat = math.radians(train['dropLat'])\n",
    "    dLong = math.radians(train['dropLong'])\n",
    "    r = 6371\n",
    "    x = dLat-pLat #longitude\n",
    "    y = dLong-pLong #latitude\n",
    "    intermediate = math.sin(x/2) * math.sin(x/2)  + math.cos(pLat) * math.cos(dLat) * math.sin(y/2) * math.sin(y/2)\n",
    "    dist = 2 * math.asin(math.sqrt(intermediate)) #inverse of sine\n",
    "    return dist*r"
   ]
  },
  {
   "cell_type": "code",
   "execution_count": 18,
   "metadata": {},
   "outputs": [
    {
     "data": {
      "text/html": [
       "<div>\n",
       "<style scoped>\n",
       "    .dataframe tbody tr th:only-of-type {\n",
       "        vertical-align: middle;\n",
       "    }\n",
       "\n",
       "    .dataframe tbody tr th {\n",
       "        vertical-align: top;\n",
       "    }\n",
       "\n",
       "    .dataframe thead th {\n",
       "        text-align: right;\n",
       "    }\n",
       "</style>\n",
       "<table border=\"1\" class=\"dataframe\">\n",
       "  <thead>\n",
       "    <tr style=\"text-align: right;\">\n",
       "      <th></th>\n",
       "      <th>key</th>\n",
       "      <th>fare</th>\n",
       "      <th>dateTime</th>\n",
       "      <th>pickLong</th>\n",
       "      <th>pickLat</th>\n",
       "      <th>dropLong</th>\n",
       "      <th>dropLat</th>\n",
       "      <th>passengers</th>\n",
       "      <th>time</th>\n",
       "      <th>hourOfDay</th>\n",
       "      <th>minOfDay</th>\n",
       "      <th>secOfDay</th>\n",
       "      <th>distance</th>\n",
       "    </tr>\n",
       "  </thead>\n",
       "  <tbody>\n",
       "    <tr>\n",
       "      <th>0</th>\n",
       "      <td>2009-06-15 17:26:21.0000001</td>\n",
       "      <td>4.5</td>\n",
       "      <td>2009-06-15 17:26:21</td>\n",
       "      <td>-73.844311</td>\n",
       "      <td>40.721319</td>\n",
       "      <td>-73.841610</td>\n",
       "      <td>40.712278</td>\n",
       "      <td>1</td>\n",
       "      <td>2009-06-15 17:26:21</td>\n",
       "      <td>17</td>\n",
       "      <td>26</td>\n",
       "      <td>21</td>\n",
       "      <td>1.030764</td>\n",
       "    </tr>\n",
       "    <tr>\n",
       "      <th>1</th>\n",
       "      <td>2010-01-05 16:52:16.0000002</td>\n",
       "      <td>16.9</td>\n",
       "      <td>2010-01-05 16:52:16</td>\n",
       "      <td>-74.016048</td>\n",
       "      <td>40.711303</td>\n",
       "      <td>-73.979268</td>\n",
       "      <td>40.782004</td>\n",
       "      <td>1</td>\n",
       "      <td>2010-01-05 16:52:16</td>\n",
       "      <td>16</td>\n",
       "      <td>52</td>\n",
       "      <td>16</td>\n",
       "      <td>8.450134</td>\n",
       "    </tr>\n",
       "    <tr>\n",
       "      <th>2</th>\n",
       "      <td>2011-08-18 00:35:00.00000049</td>\n",
       "      <td>5.7</td>\n",
       "      <td>2011-08-18 00:35:00</td>\n",
       "      <td>-73.982738</td>\n",
       "      <td>40.761270</td>\n",
       "      <td>-73.991242</td>\n",
       "      <td>40.750562</td>\n",
       "      <td>2</td>\n",
       "      <td>2011-08-18 00:35:00</td>\n",
       "      <td>0</td>\n",
       "      <td>35</td>\n",
       "      <td>0</td>\n",
       "      <td>1.389525</td>\n",
       "    </tr>\n",
       "    <tr>\n",
       "      <th>3</th>\n",
       "      <td>2012-04-21 04:30:42.0000001</td>\n",
       "      <td>7.7</td>\n",
       "      <td>2012-04-21 04:30:42</td>\n",
       "      <td>-73.987130</td>\n",
       "      <td>40.733143</td>\n",
       "      <td>-73.991567</td>\n",
       "      <td>40.758092</td>\n",
       "      <td>1</td>\n",
       "      <td>2012-04-21 04:30:42</td>\n",
       "      <td>4</td>\n",
       "      <td>30</td>\n",
       "      <td>42</td>\n",
       "      <td>2.799270</td>\n",
       "    </tr>\n",
       "    <tr>\n",
       "      <th>4</th>\n",
       "      <td>2010-03-09 07:51:00.000000135</td>\n",
       "      <td>5.3</td>\n",
       "      <td>2010-03-09 07:51:00</td>\n",
       "      <td>-73.968095</td>\n",
       "      <td>40.768008</td>\n",
       "      <td>-73.956655</td>\n",
       "      <td>40.783762</td>\n",
       "      <td>1</td>\n",
       "      <td>2010-03-09 07:51:00</td>\n",
       "      <td>7</td>\n",
       "      <td>51</td>\n",
       "      <td>0</td>\n",
       "      <td>1.999157</td>\n",
       "    </tr>\n",
       "  </tbody>\n",
       "</table>\n",
       "</div>"
      ],
      "text/plain": [
       "                             key  fare              dateTime   pickLong  \\\n",
       "0    2009-06-15 17:26:21.0000001   4.5  2009-06-15 17:26:21  -73.844311   \n",
       "1    2010-01-05 16:52:16.0000002  16.9  2010-01-05 16:52:16  -74.016048   \n",
       "2   2011-08-18 00:35:00.00000049   5.7  2011-08-18 00:35:00  -73.982738   \n",
       "3    2012-04-21 04:30:42.0000001   7.7  2012-04-21 04:30:42  -73.987130   \n",
       "4  2010-03-09 07:51:00.000000135   5.3  2010-03-09 07:51:00  -73.968095   \n",
       "\n",
       "     pickLat   dropLong    dropLat  passengers                time  hourOfDay  \\\n",
       "0  40.721319 -73.841610  40.712278           1 2009-06-15 17:26:21         17   \n",
       "1  40.711303 -73.979268  40.782004           1 2010-01-05 16:52:16         16   \n",
       "2  40.761270 -73.991242  40.750562           2 2011-08-18 00:35:00          0   \n",
       "3  40.733143 -73.991567  40.758092           1 2012-04-21 04:30:42          4   \n",
       "4  40.768008 -73.956655  40.783762           1 2010-03-09 07:51:00          7   \n",
       "\n",
       "   minOfDay  secOfDay  distance  \n",
       "0        26        21  1.030764  \n",
       "1        52        16  8.450134  \n",
       "2        35         0  1.389525  \n",
       "3        30        42  2.799270  \n",
       "4        51         0  1.999157  "
      ]
     },
     "execution_count": 18,
     "metadata": {},
     "output_type": "execute_result"
    }
   ],
   "source": [
    "# add distance column to dataframe\n",
    "# assumption: average speed per hour in new york is 17.6 mph which is 28.32 kmph\n",
    "train['distance'] = train.apply(haversineDist,axis=1)\n",
    "test['distance'] = test.apply(haversineDist,axis=1)\n",
    "train.head()"
   ]
  },
  {
   "cell_type": "raw",
   "metadata": {},
   "source": [
    "Finding pearson correlation"
   ]
  },
  {
   "cell_type": "code",
   "execution_count": 19,
   "metadata": {},
   "outputs": [],
   "source": [
    "#change time format to number\n",
    "# def timeToNum(train):\n",
    "#     (h, m, s) = train['time'].split(':')\n",
    "#     result = int(h) * 3600 + int(m) * 60 + int(s)\n",
    "#     return result\n",
    "# stats.pearsonr(nytaxi['time'],nytaxi['distance'])"
   ]
  },
  {
   "cell_type": "code",
   "execution_count": 20,
   "metadata": {
    "scrolled": false
   },
   "outputs": [],
   "source": [
    "# time of day in seconds\n",
    "# train['timeInNum'] = train.apply(timeToNum,axis=1)\n",
    "# train.head()"
   ]
  },
  {
   "cell_type": "code",
   "execution_count": 21,
   "metadata": {},
   "outputs": [
    {
     "data": {
      "text/plain": [
       "(0.026486261836882383, 2.727444479986014e-78)"
      ]
     },
     "execution_count": 21,
     "metadata": {},
     "output_type": "execute_result"
    }
   ],
   "source": [
    "stats.pearsonr(train['distance'],train['fare'])"
   ]
  },
  {
   "cell_type": "code",
   "execution_count": 22,
   "metadata": {},
   "outputs": [
    {
     "data": {
      "text/plain": [
       "(-0.0019300195487411903, 0.17234077365002748)"
      ]
     },
     "execution_count": 22,
     "metadata": {},
     "output_type": "execute_result"
    }
   ],
   "source": [
    "stats.pearsonr(train['hourOfDay'],train['distance'])"
   ]
  },
  {
   "cell_type": "code",
   "execution_count": 23,
   "metadata": {},
   "outputs": [
    {
     "data": {
      "text/plain": [
       "(-0.019272466241650094, 2.6977968427801127e-42)"
      ]
     },
     "execution_count": 23,
     "metadata": {},
     "output_type": "execute_result"
    }
   ],
   "source": [
    "stats.pearsonr(train['hourOfDay'],train['fare'])"
   ]
  },
  {
   "cell_type": "raw",
   "metadata": {},
   "source": [
    "Highest correlation is between distance and fare which is expected since cost would depend mainly on distance travelled"
   ]
  },
  {
   "cell_type": "code",
   "execution_count": 24,
   "metadata": {},
   "outputs": [],
   "source": [
    "# g = sns.distplot(train['fare'],color='red')\n",
    "# xlabels = [i for i in range(0,24)]\n",
    "# plt.legend(['FARE'])\n",
    "# g.set(xticklabels=xlabels)\n",
    "# t = plt.xlim([0,50])\n",
    "# plt.ylabel('FARE')\n",
    "# plt.xlabel('TIME OF DAY')"
   ]
  },
  {
   "cell_type": "raw",
   "metadata": {},
   "source": [
    "We see that fare is higher during particular hours of the day which is phenomena called surge pricing due to higher demand in taxi services at these hours."
   ]
  },
  {
   "cell_type": "code",
   "execution_count": 25,
   "metadata": {},
   "outputs": [
    {
     "data": {
      "text/html": [
       "<div>\n",
       "<style scoped>\n",
       "    .dataframe tbody tr th:only-of-type {\n",
       "        vertical-align: middle;\n",
       "    }\n",
       "\n",
       "    .dataframe tbody tr th {\n",
       "        vertical-align: top;\n",
       "    }\n",
       "\n",
       "    .dataframe thead th {\n",
       "        text-align: right;\n",
       "    }\n",
       "</style>\n",
       "<table border=\"1\" class=\"dataframe\">\n",
       "  <thead>\n",
       "    <tr style=\"text-align: right;\">\n",
       "      <th></th>\n",
       "      <th>fare</th>\n",
       "      <th>pickLong</th>\n",
       "      <th>pickLat</th>\n",
       "      <th>dropLong</th>\n",
       "      <th>dropLat</th>\n",
       "      <th>passengers</th>\n",
       "      <th>minOfDay</th>\n",
       "      <th>secOfDay</th>\n",
       "      <th>distance</th>\n",
       "    </tr>\n",
       "    <tr>\n",
       "      <th>hourOfDay</th>\n",
       "      <th></th>\n",
       "      <th></th>\n",
       "      <th></th>\n",
       "      <th></th>\n",
       "      <th></th>\n",
       "      <th></th>\n",
       "      <th></th>\n",
       "      <th></th>\n",
       "      <th></th>\n",
       "    </tr>\n",
       "  </thead>\n",
       "  <tbody>\n",
       "    <tr>\n",
       "      <th>0</th>\n",
       "      <td>11.774804</td>\n",
       "      <td>-72.342465</td>\n",
       "      <td>39.808484</td>\n",
       "      <td>-72.348082</td>\n",
       "      <td>39.824984</td>\n",
       "      <td>1.744326</td>\n",
       "      <td>27.953028</td>\n",
       "      <td>15.640916</td>\n",
       "      <td>25.009558</td>\n",
       "    </tr>\n",
       "    <tr>\n",
       "      <th>1</th>\n",
       "      <td>11.438250</td>\n",
       "      <td>-72.585112</td>\n",
       "      <td>39.763712</td>\n",
       "      <td>-72.567911</td>\n",
       "      <td>39.632085</td>\n",
       "      <td>1.743405</td>\n",
       "      <td>28.144064</td>\n",
       "      <td>16.299395</td>\n",
       "      <td>15.515779</td>\n",
       "    </tr>\n",
       "    <tr>\n",
       "      <th>2</th>\n",
       "      <td>11.511949</td>\n",
       "      <td>-72.380326</td>\n",
       "      <td>39.886408</td>\n",
       "      <td>-72.348222</td>\n",
       "      <td>39.841929</td>\n",
       "      <td>1.733921</td>\n",
       "      <td>27.979052</td>\n",
       "      <td>16.177876</td>\n",
       "      <td>18.173196</td>\n",
       "    </tr>\n",
       "    <tr>\n",
       "      <th>3</th>\n",
       "      <td>12.076379</td>\n",
       "      <td>-72.322459</td>\n",
       "      <td>39.800889</td>\n",
       "      <td>-72.288220</td>\n",
       "      <td>39.800441</td>\n",
       "      <td>1.768901</td>\n",
       "      <td>27.970766</td>\n",
       "      <td>16.346396</td>\n",
       "      <td>21.091953</td>\n",
       "    </tr>\n",
       "    <tr>\n",
       "      <th>4</th>\n",
       "      <td>13.687069</td>\n",
       "      <td>-72.245698</td>\n",
       "      <td>39.786386</td>\n",
       "      <td>-72.262489</td>\n",
       "      <td>39.794837</td>\n",
       "      <td>1.714700</td>\n",
       "      <td>26.421214</td>\n",
       "      <td>16.497101</td>\n",
       "      <td>38.850043</td>\n",
       "    </tr>\n",
       "    <tr>\n",
       "      <th>5</th>\n",
       "      <td>15.166068</td>\n",
       "      <td>-72.244206</td>\n",
       "      <td>39.771405</td>\n",
       "      <td>-72.229844</td>\n",
       "      <td>39.772062</td>\n",
       "      <td>1.606784</td>\n",
       "      <td>32.008631</td>\n",
       "      <td>16.819550</td>\n",
       "      <td>19.049514</td>\n",
       "    </tr>\n",
       "    <tr>\n",
       "      <th>6</th>\n",
       "      <td>12.314031</td>\n",
       "      <td>-72.575852</td>\n",
       "      <td>39.958075</td>\n",
       "      <td>-72.536066</td>\n",
       "      <td>39.945745</td>\n",
       "      <td>1.522080</td>\n",
       "      <td>33.857254</td>\n",
       "      <td>17.131416</td>\n",
       "      <td>16.930849</td>\n",
       "    </tr>\n",
       "    <tr>\n",
       "      <th>7</th>\n",
       "      <td>10.952701</td>\n",
       "      <td>-72.528216</td>\n",
       "      <td>39.739392</td>\n",
       "      <td>-72.479805</td>\n",
       "      <td>39.910136</td>\n",
       "      <td>1.559322</td>\n",
       "      <td>31.747353</td>\n",
       "      <td>16.382700</td>\n",
       "      <td>22.051665</td>\n",
       "    </tr>\n",
       "    <tr>\n",
       "      <th>8</th>\n",
       "      <td>10.913638</td>\n",
       "      <td>-72.554856</td>\n",
       "      <td>39.944522</td>\n",
       "      <td>-72.533779</td>\n",
       "      <td>39.934532</td>\n",
       "      <td>1.579406</td>\n",
       "      <td>30.223594</td>\n",
       "      <td>15.881234</td>\n",
       "      <td>18.482218</td>\n",
       "    </tr>\n",
       "    <tr>\n",
       "      <th>9</th>\n",
       "      <td>10.817963</td>\n",
       "      <td>-72.655310</td>\n",
       "      <td>40.017042</td>\n",
       "      <td>-72.679954</td>\n",
       "      <td>40.017143</td>\n",
       "      <td>1.613537</td>\n",
       "      <td>29.784553</td>\n",
       "      <td>15.692213</td>\n",
       "      <td>18.500844</td>\n",
       "    </tr>\n",
       "    <tr>\n",
       "      <th>10</th>\n",
       "      <td>10.904111</td>\n",
       "      <td>-72.641631</td>\n",
       "      <td>39.992319</td>\n",
       "      <td>-72.604802</td>\n",
       "      <td>39.985713</td>\n",
       "      <td>1.629169</td>\n",
       "      <td>29.638577</td>\n",
       "      <td>15.864901</td>\n",
       "      <td>18.150222</td>\n",
       "    </tr>\n",
       "    <tr>\n",
       "      <th>11</th>\n",
       "      <td>11.191079</td>\n",
       "      <td>-72.599164</td>\n",
       "      <td>39.969431</td>\n",
       "      <td>-72.590620</td>\n",
       "      <td>39.966595</td>\n",
       "      <td>1.651855</td>\n",
       "      <td>30.373897</td>\n",
       "      <td>15.953552</td>\n",
       "      <td>16.567318</td>\n",
       "    </tr>\n",
       "    <tr>\n",
       "      <th>12</th>\n",
       "      <td>11.128079</td>\n",
       "      <td>-72.562536</td>\n",
       "      <td>39.952848</td>\n",
       "      <td>-72.566181</td>\n",
       "      <td>39.956742</td>\n",
       "      <td>1.664449</td>\n",
       "      <td>29.662704</td>\n",
       "      <td>15.924216</td>\n",
       "      <td>21.499319</td>\n",
       "    </tr>\n",
       "    <tr>\n",
       "      <th>13</th>\n",
       "      <td>11.648150</td>\n",
       "      <td>-72.541071</td>\n",
       "      <td>39.940482</td>\n",
       "      <td>-72.528951</td>\n",
       "      <td>39.931383</td>\n",
       "      <td>1.682101</td>\n",
       "      <td>29.808474</td>\n",
       "      <td>15.868751</td>\n",
       "      <td>16.308618</td>\n",
       "    </tr>\n",
       "    <tr>\n",
       "      <th>14</th>\n",
       "      <td>11.869480</td>\n",
       "      <td>-72.589527</td>\n",
       "      <td>39.973751</td>\n",
       "      <td>-72.578402</td>\n",
       "      <td>39.970680</td>\n",
       "      <td>1.684774</td>\n",
       "      <td>29.579949</td>\n",
       "      <td>15.819618</td>\n",
       "      <td>16.398807</td>\n",
       "    </tr>\n",
       "    <tr>\n",
       "      <th>15</th>\n",
       "      <td>12.088543</td>\n",
       "      <td>-72.668934</td>\n",
       "      <td>39.998148</td>\n",
       "      <td>-72.625776</td>\n",
       "      <td>39.988793</td>\n",
       "      <td>1.689157</td>\n",
       "      <td>28.923205</td>\n",
       "      <td>15.892653</td>\n",
       "      <td>20.900554</td>\n",
       "    </tr>\n",
       "    <tr>\n",
       "      <th>16</th>\n",
       "      <td>11.837232</td>\n",
       "      <td>-72.634092</td>\n",
       "      <td>40.000904</td>\n",
       "      <td>-72.666695</td>\n",
       "      <td>40.006011</td>\n",
       "      <td>1.701249</td>\n",
       "      <td>28.859935</td>\n",
       "      <td>15.416841</td>\n",
       "      <td>24.127670</td>\n",
       "    </tr>\n",
       "    <tr>\n",
       "      <th>17</th>\n",
       "      <td>11.376808</td>\n",
       "      <td>-72.512000</td>\n",
       "      <td>39.933929</td>\n",
       "      <td>-72.554869</td>\n",
       "      <td>39.937841</td>\n",
       "      <td>1.686318</td>\n",
       "      <td>30.976791</td>\n",
       "      <td>15.612189</td>\n",
       "      <td>24.496306</td>\n",
       "    </tr>\n",
       "    <tr>\n",
       "      <th>18</th>\n",
       "      <td>10.977634</td>\n",
       "      <td>-72.527811</td>\n",
       "      <td>39.941333</td>\n",
       "      <td>-72.551403</td>\n",
       "      <td>39.951129</td>\n",
       "      <td>1.704487</td>\n",
       "      <td>29.899844</td>\n",
       "      <td>15.480857</td>\n",
       "      <td>22.500432</td>\n",
       "    </tr>\n",
       "    <tr>\n",
       "      <th>19</th>\n",
       "      <td>10.601758</td>\n",
       "      <td>-72.471891</td>\n",
       "      <td>39.912757</td>\n",
       "      <td>-72.477570</td>\n",
       "      <td>39.912833</td>\n",
       "      <td>1.707890</td>\n",
       "      <td>29.417214</td>\n",
       "      <td>15.700943</td>\n",
       "      <td>16.123590</td>\n",
       "    </tr>\n",
       "    <tr>\n",
       "      <th>20</th>\n",
       "      <td>10.825642</td>\n",
       "      <td>-72.576826</td>\n",
       "      <td>39.968433</td>\n",
       "      <td>-72.588056</td>\n",
       "      <td>39.964887</td>\n",
       "      <td>1.720961</td>\n",
       "      <td>29.136368</td>\n",
       "      <td>15.697051</td>\n",
       "      <td>18.650218</td>\n",
       "    </tr>\n",
       "    <tr>\n",
       "      <th>21</th>\n",
       "      <td>10.997743</td>\n",
       "      <td>-72.306452</td>\n",
       "      <td>39.902208</td>\n",
       "      <td>-72.432887</td>\n",
       "      <td>39.807668</td>\n",
       "      <td>1.724676</td>\n",
       "      <td>29.331506</td>\n",
       "      <td>15.820350</td>\n",
       "      <td>17.240453</td>\n",
       "    </tr>\n",
       "    <tr>\n",
       "      <th>22</th>\n",
       "      <td>11.319215</td>\n",
       "      <td>-72.402816</td>\n",
       "      <td>39.847518</td>\n",
       "      <td>-72.423023</td>\n",
       "      <td>39.860422</td>\n",
       "      <td>1.733257</td>\n",
       "      <td>29.091455</td>\n",
       "      <td>15.581084</td>\n",
       "      <td>16.787028</td>\n",
       "    </tr>\n",
       "    <tr>\n",
       "      <th>23</th>\n",
       "      <td>11.555971</td>\n",
       "      <td>-72.492432</td>\n",
       "      <td>39.875661</td>\n",
       "      <td>-72.432926</td>\n",
       "      <td>39.873624</td>\n",
       "      <td>1.748431</td>\n",
       "      <td>28.425434</td>\n",
       "      <td>15.995777</td>\n",
       "      <td>18.939628</td>\n",
       "    </tr>\n",
       "  </tbody>\n",
       "</table>\n",
       "</div>"
      ],
      "text/plain": [
       "                fare   pickLong    pickLat   dropLong    dropLat  passengers  \\\n",
       "hourOfDay                                                                      \n",
       "0          11.774804 -72.342465  39.808484 -72.348082  39.824984    1.744326   \n",
       "1          11.438250 -72.585112  39.763712 -72.567911  39.632085    1.743405   \n",
       "2          11.511949 -72.380326  39.886408 -72.348222  39.841929    1.733921   \n",
       "3          12.076379 -72.322459  39.800889 -72.288220  39.800441    1.768901   \n",
       "4          13.687069 -72.245698  39.786386 -72.262489  39.794837    1.714700   \n",
       "5          15.166068 -72.244206  39.771405 -72.229844  39.772062    1.606784   \n",
       "6          12.314031 -72.575852  39.958075 -72.536066  39.945745    1.522080   \n",
       "7          10.952701 -72.528216  39.739392 -72.479805  39.910136    1.559322   \n",
       "8          10.913638 -72.554856  39.944522 -72.533779  39.934532    1.579406   \n",
       "9          10.817963 -72.655310  40.017042 -72.679954  40.017143    1.613537   \n",
       "10         10.904111 -72.641631  39.992319 -72.604802  39.985713    1.629169   \n",
       "11         11.191079 -72.599164  39.969431 -72.590620  39.966595    1.651855   \n",
       "12         11.128079 -72.562536  39.952848 -72.566181  39.956742    1.664449   \n",
       "13         11.648150 -72.541071  39.940482 -72.528951  39.931383    1.682101   \n",
       "14         11.869480 -72.589527  39.973751 -72.578402  39.970680    1.684774   \n",
       "15         12.088543 -72.668934  39.998148 -72.625776  39.988793    1.689157   \n",
       "16         11.837232 -72.634092  40.000904 -72.666695  40.006011    1.701249   \n",
       "17         11.376808 -72.512000  39.933929 -72.554869  39.937841    1.686318   \n",
       "18         10.977634 -72.527811  39.941333 -72.551403  39.951129    1.704487   \n",
       "19         10.601758 -72.471891  39.912757 -72.477570  39.912833    1.707890   \n",
       "20         10.825642 -72.576826  39.968433 -72.588056  39.964887    1.720961   \n",
       "21         10.997743 -72.306452  39.902208 -72.432887  39.807668    1.724676   \n",
       "22         11.319215 -72.402816  39.847518 -72.423023  39.860422    1.733257   \n",
       "23         11.555971 -72.492432  39.875661 -72.432926  39.873624    1.748431   \n",
       "\n",
       "            minOfDay   secOfDay   distance  \n",
       "hourOfDay                                   \n",
       "0          27.953028  15.640916  25.009558  \n",
       "1          28.144064  16.299395  15.515779  \n",
       "2          27.979052  16.177876  18.173196  \n",
       "3          27.970766  16.346396  21.091953  \n",
       "4          26.421214  16.497101  38.850043  \n",
       "5          32.008631  16.819550  19.049514  \n",
       "6          33.857254  17.131416  16.930849  \n",
       "7          31.747353  16.382700  22.051665  \n",
       "8          30.223594  15.881234  18.482218  \n",
       "9          29.784553  15.692213  18.500844  \n",
       "10         29.638577  15.864901  18.150222  \n",
       "11         30.373897  15.953552  16.567318  \n",
       "12         29.662704  15.924216  21.499319  \n",
       "13         29.808474  15.868751  16.308618  \n",
       "14         29.579949  15.819618  16.398807  \n",
       "15         28.923205  15.892653  20.900554  \n",
       "16         28.859935  15.416841  24.127670  \n",
       "17         30.976791  15.612189  24.496306  \n",
       "18         29.899844  15.480857  22.500432  \n",
       "19         29.417214  15.700943  16.123590  \n",
       "20         29.136368  15.697051  18.650218  \n",
       "21         29.331506  15.820350  17.240453  \n",
       "22         29.091455  15.581084  16.787028  \n",
       "23         28.425434  15.995777  18.939628  "
      ]
     },
     "execution_count": 25,
     "metadata": {},
     "output_type": "execute_result"
    }
   ],
   "source": [
    "plotDF = train.groupby(['hourOfDay']).mean()\n",
    "plotDF"
   ]
  },
  {
   "cell_type": "code",
   "execution_count": 26,
   "metadata": {},
   "outputs": [],
   "source": [
    "# plotDF.plot(x=['hourOfDay'], y=['fare', 'distance'], figsize=(10,5), grid=True)"
   ]
  },
  {
   "cell_type": "raw",
   "metadata": {},
   "source": [
    "Adding additional features"
   ]
  },
  {
   "cell_type": "code",
   "execution_count": 27,
   "metadata": {},
   "outputs": [
    {
     "data": {
      "text/html": [
       "<div>\n",
       "<style scoped>\n",
       "    .dataframe tbody tr th:only-of-type {\n",
       "        vertical-align: middle;\n",
       "    }\n",
       "\n",
       "    .dataframe tbody tr th {\n",
       "        vertical-align: top;\n",
       "    }\n",
       "\n",
       "    .dataframe thead th {\n",
       "        text-align: right;\n",
       "    }\n",
       "</style>\n",
       "<table border=\"1\" class=\"dataframe\">\n",
       "  <thead>\n",
       "    <tr style=\"text-align: right;\">\n",
       "      <th></th>\n",
       "      <th>key</th>\n",
       "      <th>fare</th>\n",
       "      <th>dateTime</th>\n",
       "      <th>pickLong</th>\n",
       "      <th>pickLat</th>\n",
       "      <th>dropLong</th>\n",
       "      <th>dropLat</th>\n",
       "      <th>passengers</th>\n",
       "      <th>time</th>\n",
       "      <th>hourOfDay</th>\n",
       "      <th>minOfDay</th>\n",
       "      <th>secOfDay</th>\n",
       "      <th>distance</th>\n",
       "      <th>travel_time</th>\n",
       "    </tr>\n",
       "  </thead>\n",
       "  <tbody>\n",
       "    <tr>\n",
       "      <th>0</th>\n",
       "      <td>2009-06-15 17:26:21.0000001</td>\n",
       "      <td>4.5</td>\n",
       "      <td>2009-06-15 17:26:21</td>\n",
       "      <td>-73.844311</td>\n",
       "      <td>40.721319</td>\n",
       "      <td>-73.841610</td>\n",
       "      <td>40.712278</td>\n",
       "      <td>1</td>\n",
       "      <td>2009-06-15 17:26:21</td>\n",
       "      <td>17</td>\n",
       "      <td>26</td>\n",
       "      <td>21</td>\n",
       "      <td>1.030764</td>\n",
       "      <td>0.036397</td>\n",
       "    </tr>\n",
       "    <tr>\n",
       "      <th>1</th>\n",
       "      <td>2010-01-05 16:52:16.0000002</td>\n",
       "      <td>16.9</td>\n",
       "      <td>2010-01-05 16:52:16</td>\n",
       "      <td>-74.016048</td>\n",
       "      <td>40.711303</td>\n",
       "      <td>-73.979268</td>\n",
       "      <td>40.782004</td>\n",
       "      <td>1</td>\n",
       "      <td>2010-01-05 16:52:16</td>\n",
       "      <td>16</td>\n",
       "      <td>52</td>\n",
       "      <td>16</td>\n",
       "      <td>8.450134</td>\n",
       "      <td>0.298380</td>\n",
       "    </tr>\n",
       "    <tr>\n",
       "      <th>2</th>\n",
       "      <td>2011-08-18 00:35:00.00000049</td>\n",
       "      <td>5.7</td>\n",
       "      <td>2011-08-18 00:35:00</td>\n",
       "      <td>-73.982738</td>\n",
       "      <td>40.761270</td>\n",
       "      <td>-73.991242</td>\n",
       "      <td>40.750562</td>\n",
       "      <td>2</td>\n",
       "      <td>2011-08-18 00:35:00</td>\n",
       "      <td>0</td>\n",
       "      <td>35</td>\n",
       "      <td>0</td>\n",
       "      <td>1.389525</td>\n",
       "      <td>0.049065</td>\n",
       "    </tr>\n",
       "    <tr>\n",
       "      <th>3</th>\n",
       "      <td>2012-04-21 04:30:42.0000001</td>\n",
       "      <td>7.7</td>\n",
       "      <td>2012-04-21 04:30:42</td>\n",
       "      <td>-73.987130</td>\n",
       "      <td>40.733143</td>\n",
       "      <td>-73.991567</td>\n",
       "      <td>40.758092</td>\n",
       "      <td>1</td>\n",
       "      <td>2012-04-21 04:30:42</td>\n",
       "      <td>4</td>\n",
       "      <td>30</td>\n",
       "      <td>42</td>\n",
       "      <td>2.799270</td>\n",
       "      <td>0.098844</td>\n",
       "    </tr>\n",
       "    <tr>\n",
       "      <th>4</th>\n",
       "      <td>2010-03-09 07:51:00.000000135</td>\n",
       "      <td>5.3</td>\n",
       "      <td>2010-03-09 07:51:00</td>\n",
       "      <td>-73.968095</td>\n",
       "      <td>40.768008</td>\n",
       "      <td>-73.956655</td>\n",
       "      <td>40.783762</td>\n",
       "      <td>1</td>\n",
       "      <td>2010-03-09 07:51:00</td>\n",
       "      <td>7</td>\n",
       "      <td>51</td>\n",
       "      <td>0</td>\n",
       "      <td>1.999157</td>\n",
       "      <td>0.070592</td>\n",
       "    </tr>\n",
       "  </tbody>\n",
       "</table>\n",
       "</div>"
      ],
      "text/plain": [
       "                             key  fare              dateTime   pickLong  \\\n",
       "0    2009-06-15 17:26:21.0000001   4.5  2009-06-15 17:26:21  -73.844311   \n",
       "1    2010-01-05 16:52:16.0000002  16.9  2010-01-05 16:52:16  -74.016048   \n",
       "2   2011-08-18 00:35:00.00000049   5.7  2011-08-18 00:35:00  -73.982738   \n",
       "3    2012-04-21 04:30:42.0000001   7.7  2012-04-21 04:30:42  -73.987130   \n",
       "4  2010-03-09 07:51:00.000000135   5.3  2010-03-09 07:51:00  -73.968095   \n",
       "\n",
       "     pickLat   dropLong    dropLat  passengers                time  hourOfDay  \\\n",
       "0  40.721319 -73.841610  40.712278           1 2009-06-15 17:26:21         17   \n",
       "1  40.711303 -73.979268  40.782004           1 2010-01-05 16:52:16         16   \n",
       "2  40.761270 -73.991242  40.750562           2 2011-08-18 00:35:00          0   \n",
       "3  40.733143 -73.991567  40.758092           1 2012-04-21 04:30:42          4   \n",
       "4  40.768008 -73.956655  40.783762           1 2010-03-09 07:51:00          7   \n",
       "\n",
       "   minOfDay  secOfDay  distance  travel_time  \n",
       "0        26        21  1.030764     0.036397  \n",
       "1        52        16  8.450134     0.298380  \n",
       "2        35         0  1.389525     0.049065  \n",
       "3        30        42  2.799270     0.098844  \n",
       "4        51         0  1.999157     0.070592  "
      ]
     },
     "execution_count": 27,
     "metadata": {},
     "output_type": "execute_result"
    }
   ],
   "source": [
    "# travel time in hours\n",
    "# assuming average speed of driving in nyc is 28.32 kms\n",
    "train['travel_time'] = train['distance']/28.32\n",
    "test['travel_time'] = test['distance']/28.32\n",
    "train.head()"
   ]
  },
  {
   "cell_type": "code",
   "execution_count": 28,
   "metadata": {},
   "outputs": [
    {
     "data": {
      "text/plain": [
       "(1.0, 0.0)"
      ]
     },
     "execution_count": 28,
     "metadata": {},
     "output_type": "execute_result"
    }
   ],
   "source": [
    "stats.pearsonr(train['distance'],train['travel_time'])"
   ]
  },
  {
   "cell_type": "code",
   "execution_count": 29,
   "metadata": {},
   "outputs": [
    {
     "data": {
      "text/plain": [
       "(0.026486261836882394, 2.727444479986014e-78)"
      ]
     },
     "execution_count": 29,
     "metadata": {},
     "output_type": "execute_result"
    }
   ],
   "source": [
    "stats.pearsonr(train['travel_time'],train['fare'])"
   ]
  },
  {
   "cell_type": "code",
   "execution_count": 30,
   "metadata": {},
   "outputs": [
    {
     "data": {
      "text/plain": [
       "Text(0.5,1,'Trip Fare')"
      ]
     },
     "execution_count": 30,
     "metadata": {},
     "output_type": "execute_result"
    },
    {
     "data": {
      "image/png": "[encoded data removed]",
      "text/plain": [
       "<matplotlib.figure.Figure at 0x1a2d096da0>"
      ]
     },
     "metadata": {},
     "output_type": "display_data"
    }
   ],
   "source": [
    "# plotting all fares\n",
    "plt.figure(figsize=(8,5))\n",
    "sns.kdeplot(train['fare']).set_title(\"Trip Fare\")"
   ]
  },
  {
   "cell_type": "code",
   "execution_count": 31,
   "metadata": {},
   "outputs": [
    {
     "data": {
      "text/plain": [
       "8.5"
      ]
     },
     "execution_count": 31,
     "metadata": {},
     "output_type": "execute_result"
    }
   ],
   "source": [
    "train['fare'].median()"
   ]
  },
  {
   "cell_type": "code",
   "execution_count": 32,
   "metadata": {},
   "outputs": [
    {
     "data": {
      "text/plain": [
       "Text(0.5,1,'Trip Fare')"
      ]
     },
     "execution_count": 32,
     "metadata": {},
     "output_type": "execute_result"
    },
    {
     "data": {
      "image/png": "[encoded data removed]",
      "text/plain": [
       "<matplotlib.figure.Figure at 0x1a2d07a9b0>"
      ]
     },
     "metadata": {},
     "output_type": "display_data"
    }
   ],
   "source": [
    "# plotting average fares\n",
    "plt.figure(figsize=(8,5))\n",
    "sns.kdeplot(plotDF['fare']).set_title(\"Trip Fare\")"
   ]
  },
  {
   "cell_type": "code",
   "execution_count": 33,
   "metadata": {},
   "outputs": [],
   "source": [
    "#  7 AM to 9 AM\n",
    "#  4 PM to 6 PM\n",
    "#  NYC Peak Traffic Hours"
   ]
  },
  {
   "cell_type": "code",
   "execution_count": 34,
   "metadata": {},
   "outputs": [],
   "source": [
    "def checkPeak(train):\n",
    "    if (7 <= train['hourOfDay'] <= 9) or (16 <= train['hourOfDay'] <= 18):\n",
    "        return \"Peak\"\n",
    "    else:\n",
    "        return \"Off Peak\""
   ]
  },
  {
   "cell_type": "code",
   "execution_count": 35,
   "metadata": {},
   "outputs": [
    {
     "data": {
      "text/html": [
       "<div>\n",
       "<style scoped>\n",
       "    .dataframe tbody tr th:only-of-type {\n",
       "        vertical-align: middle;\n",
       "    }\n",
       "\n",
       "    .dataframe tbody tr th {\n",
       "        vertical-align: top;\n",
       "    }\n",
       "\n",
       "    .dataframe thead th {\n",
       "        text-align: right;\n",
       "    }\n",
       "</style>\n",
       "<table border=\"1\" class=\"dataframe\">\n",
       "  <thead>\n",
       "    <tr style=\"text-align: right;\">\n",
       "      <th></th>\n",
       "      <th>key</th>\n",
       "      <th>fare</th>\n",
       "      <th>dateTime</th>\n",
       "      <th>pickLong</th>\n",
       "      <th>pickLat</th>\n",
       "      <th>dropLong</th>\n",
       "      <th>dropLat</th>\n",
       "      <th>passengers</th>\n",
       "      <th>time</th>\n",
       "      <th>hourOfDay</th>\n",
       "      <th>minOfDay</th>\n",
       "      <th>secOfDay</th>\n",
       "      <th>distance</th>\n",
       "      <th>travel_time</th>\n",
       "      <th>PeakOrNot</th>\n",
       "    </tr>\n",
       "  </thead>\n",
       "  <tbody>\n",
       "    <tr>\n",
       "      <th>0</th>\n",
       "      <td>2009-06-15 17:26:21.0000001</td>\n",
       "      <td>4.5</td>\n",
       "      <td>2009-06-15 17:26:21</td>\n",
       "      <td>-73.844311</td>\n",
       "      <td>40.721319</td>\n",
       "      <td>-73.841610</td>\n",
       "      <td>40.712278</td>\n",
       "      <td>1</td>\n",
       "      <td>2009-06-15 17:26:21</td>\n",
       "      <td>17</td>\n",
       "      <td>26</td>\n",
       "      <td>21</td>\n",
       "      <td>1.030764</td>\n",
       "      <td>0.036397</td>\n",
       "      <td>Peak</td>\n",
       "    </tr>\n",
       "    <tr>\n",
       "      <th>1</th>\n",
       "      <td>2010-01-05 16:52:16.0000002</td>\n",
       "      <td>16.9</td>\n",
       "      <td>2010-01-05 16:52:16</td>\n",
       "      <td>-74.016048</td>\n",
       "      <td>40.711303</td>\n",
       "      <td>-73.979268</td>\n",
       "      <td>40.782004</td>\n",
       "      <td>1</td>\n",
       "      <td>2010-01-05 16:52:16</td>\n",
       "      <td>16</td>\n",
       "      <td>52</td>\n",
       "      <td>16</td>\n",
       "      <td>8.450134</td>\n",
       "      <td>0.298380</td>\n",
       "      <td>Peak</td>\n",
       "    </tr>\n",
       "    <tr>\n",
       "      <th>2</th>\n",
       "      <td>2011-08-18 00:35:00.00000049</td>\n",
       "      <td>5.7</td>\n",
       "      <td>2011-08-18 00:35:00</td>\n",
       "      <td>-73.982738</td>\n",
       "      <td>40.761270</td>\n",
       "      <td>-73.991242</td>\n",
       "      <td>40.750562</td>\n",
       "      <td>2</td>\n",
       "      <td>2011-08-18 00:35:00</td>\n",
       "      <td>0</td>\n",
       "      <td>35</td>\n",
       "      <td>0</td>\n",
       "      <td>1.389525</td>\n",
       "      <td>0.049065</td>\n",
       "      <td>Off Peak</td>\n",
       "    </tr>\n",
       "    <tr>\n",
       "      <th>3</th>\n",
       "      <td>2012-04-21 04:30:42.0000001</td>\n",
       "      <td>7.7</td>\n",
       "      <td>2012-04-21 04:30:42</td>\n",
       "      <td>-73.987130</td>\n",
       "      <td>40.733143</td>\n",
       "      <td>-73.991567</td>\n",
       "      <td>40.758092</td>\n",
       "      <td>1</td>\n",
       "      <td>2012-04-21 04:30:42</td>\n",
       "      <td>4</td>\n",
       "      <td>30</td>\n",
       "      <td>42</td>\n",
       "      <td>2.799270</td>\n",
       "      <td>0.098844</td>\n",
       "      <td>Off Peak</td>\n",
       "    </tr>\n",
       "    <tr>\n",
       "      <th>4</th>\n",
       "      <td>2010-03-09 07:51:00.000000135</td>\n",
       "      <td>5.3</td>\n",
       "      <td>2010-03-09 07:51:00</td>\n",
       "      <td>-73.968095</td>\n",
       "      <td>40.768008</td>\n",
       "      <td>-73.956655</td>\n",
       "      <td>40.783762</td>\n",
       "      <td>1</td>\n",
       "      <td>2010-03-09 07:51:00</td>\n",
       "      <td>7</td>\n",
       "      <td>51</td>\n",
       "      <td>0</td>\n",
       "      <td>1.999157</td>\n",
       "      <td>0.070592</td>\n",
       "      <td>Peak</td>\n",
       "    </tr>\n",
       "  </tbody>\n",
       "</table>\n",
       "</div>"
      ],
      "text/plain": [
       "                             key  fare              dateTime   pickLong  \\\n",
       "0    2009-06-15 17:26:21.0000001   4.5  2009-06-15 17:26:21  -73.844311   \n",
       "1    2010-01-05 16:52:16.0000002  16.9  2010-01-05 16:52:16  -74.016048   \n",
       "2   2011-08-18 00:35:00.00000049   5.7  2011-08-18 00:35:00  -73.982738   \n",
       "3    2012-04-21 04:30:42.0000001   7.7  2012-04-21 04:30:42  -73.987130   \n",
       "4  2010-03-09 07:51:00.000000135   5.3  2010-03-09 07:51:00  -73.968095   \n",
       "\n",
       "     pickLat   dropLong    dropLat  passengers                time  hourOfDay  \\\n",
       "0  40.721319 -73.841610  40.712278           1 2009-06-15 17:26:21         17   \n",
       "1  40.711303 -73.979268  40.782004           1 2010-01-05 16:52:16         16   \n",
       "2  40.761270 -73.991242  40.750562           2 2011-08-18 00:35:00          0   \n",
       "3  40.733143 -73.991567  40.758092           1 2012-04-21 04:30:42          4   \n",
       "4  40.768008 -73.956655  40.783762           1 2010-03-09 07:51:00          7   \n",
       "\n",
       "   minOfDay  secOfDay  distance  travel_time PeakOrNot  \n",
       "0        26        21  1.030764     0.036397      Peak  \n",
       "1        52        16  8.450134     0.298380      Peak  \n",
       "2        35         0  1.389525     0.049065  Off Peak  \n",
       "3        30        42  2.799270     0.098844  Off Peak  \n",
       "4        51         0  1.999157     0.070592      Peak  "
      ]
     },
     "execution_count": 35,
     "metadata": {},
     "output_type": "execute_result"
    }
   ],
   "source": [
    "train['PeakOrNot'] = train.apply(checkPeak,axis=1)\n",
    "test['PeakOrNot'] = test.apply(checkPeak,axis=1)\n",
    "train.head()"
   ]
  },
  {
   "cell_type": "code",
   "execution_count": 36,
   "metadata": {},
   "outputs": [
    {
     "data": {
      "text/html": [
       "<div>\n",
       "<style scoped>\n",
       "    .dataframe tbody tr th:only-of-type {\n",
       "        vertical-align: middle;\n",
       "    }\n",
       "\n",
       "    .dataframe tbody tr th {\n",
       "        vertical-align: top;\n",
       "    }\n",
       "\n",
       "    .dataframe thead th {\n",
       "        text-align: right;\n",
       "    }\n",
       "</style>\n",
       "<table border=\"1\" class=\"dataframe\">\n",
       "  <thead>\n",
       "    <tr style=\"text-align: right;\">\n",
       "      <th></th>\n",
       "      <th>fare</th>\n",
       "      <th>pickLong</th>\n",
       "      <th>pickLat</th>\n",
       "      <th>dropLong</th>\n",
       "      <th>dropLat</th>\n",
       "      <th>passengers</th>\n",
       "      <th>hourOfDay</th>\n",
       "      <th>minOfDay</th>\n",
       "      <th>secOfDay</th>\n",
       "      <th>distance</th>\n",
       "      <th>travel_time</th>\n",
       "    </tr>\n",
       "  </thead>\n",
       "  <tbody>\n",
       "    <tr>\n",
       "      <th>count</th>\n",
       "      <td>499995.000000</td>\n",
       "      <td>499995.000000</td>\n",
       "      <td>499995.000000</td>\n",
       "      <td>499995.000000</td>\n",
       "      <td>499995.000000</td>\n",
       "      <td>499995.000000</td>\n",
       "      <td>499995.000000</td>\n",
       "      <td>499995.000000</td>\n",
       "      <td>499995.000000</td>\n",
       "      <td>499995.000000</td>\n",
       "      <td>499995.000000</td>\n",
       "    </tr>\n",
       "    <tr>\n",
       "      <th>mean</th>\n",
       "      <td>11.358182</td>\n",
       "      <td>-72.520091</td>\n",
       "      <td>39.920350</td>\n",
       "      <td>-72.522435</td>\n",
       "      <td>39.916526</td>\n",
       "      <td>1.683445</td>\n",
       "      <td>13.510843</td>\n",
       "      <td>29.553972</td>\n",
       "      <td>15.858145</td>\n",
       "      <td>19.468775</td>\n",
       "      <td>0.687457</td>\n",
       "    </tr>\n",
       "    <tr>\n",
       "      <th>std</th>\n",
       "      <td>9.916069</td>\n",
       "      <td>11.856446</td>\n",
       "      <td>8.073318</td>\n",
       "      <td>11.797362</td>\n",
       "      <td>7.391002</td>\n",
       "      <td>1.307391</td>\n",
       "      <td>6.511596</td>\n",
       "      <td>17.333130</td>\n",
       "      <td>19.446493</td>\n",
       "      <td>367.299601</td>\n",
       "      <td>12.969619</td>\n",
       "    </tr>\n",
       "    <tr>\n",
       "      <th>min</th>\n",
       "      <td>-44.900000</td>\n",
       "      <td>-2986.242495</td>\n",
       "      <td>-3116.285383</td>\n",
       "      <td>-3383.296608</td>\n",
       "      <td>-2559.748913</td>\n",
       "      <td>0.000000</td>\n",
       "      <td>0.000000</td>\n",
       "      <td>0.000000</td>\n",
       "      <td>0.000000</td>\n",
       "      <td>0.000000</td>\n",
       "      <td>0.000000</td>\n",
       "    </tr>\n",
       "    <tr>\n",
       "      <th>25%</th>\n",
       "      <td>6.000000</td>\n",
       "      <td>-73.992047</td>\n",
       "      <td>40.734916</td>\n",
       "      <td>-73.991382</td>\n",
       "      <td>40.734057</td>\n",
       "      <td>1.000000</td>\n",
       "      <td>9.000000</td>\n",
       "      <td>14.000000</td>\n",
       "      <td>0.000000</td>\n",
       "      <td>1.214550</td>\n",
       "      <td>0.042887</td>\n",
       "    </tr>\n",
       "    <tr>\n",
       "      <th>50%</th>\n",
       "      <td>8.500000</td>\n",
       "      <td>-73.981785</td>\n",
       "      <td>40.752670</td>\n",
       "      <td>-73.980126</td>\n",
       "      <td>40.753152</td>\n",
       "      <td>1.000000</td>\n",
       "      <td>14.000000</td>\n",
       "      <td>30.000000</td>\n",
       "      <td>4.000000</td>\n",
       "      <td>2.116970</td>\n",
       "      <td>0.074752</td>\n",
       "    </tr>\n",
       "    <tr>\n",
       "      <th>75%</th>\n",
       "      <td>12.500000</td>\n",
       "      <td>-73.967117</td>\n",
       "      <td>40.767076</td>\n",
       "      <td>-73.963572</td>\n",
       "      <td>40.768135</td>\n",
       "      <td>2.000000</td>\n",
       "      <td>19.000000</td>\n",
       "      <td>45.000000</td>\n",
       "      <td>32.000000</td>\n",
       "      <td>3.890070</td>\n",
       "      <td>0.137361</td>\n",
       "    </tr>\n",
       "    <tr>\n",
       "      <th>max</th>\n",
       "      <td>500.000000</td>\n",
       "      <td>2140.601160</td>\n",
       "      <td>1703.092772</td>\n",
       "      <td>40.851027</td>\n",
       "      <td>404.616667</td>\n",
       "      <td>6.000000</td>\n",
       "      <td>23.000000</td>\n",
       "      <td>59.000000</td>\n",
       "      <td>59.000000</td>\n",
       "      <td>12399.956433</td>\n",
       "      <td>437.851569</td>\n",
       "    </tr>\n",
       "  </tbody>\n",
       "</table>\n",
       "</div>"
      ],
      "text/plain": [
       "                fare       pickLong        pickLat       dropLong  \\\n",
       "count  499995.000000  499995.000000  499995.000000  499995.000000   \n",
       "mean       11.358182     -72.520091      39.920350     -72.522435   \n",
       "std         9.916069      11.856446       8.073318      11.797362   \n",
       "min       -44.900000   -2986.242495   -3116.285383   -3383.296608   \n",
       "25%         6.000000     -73.992047      40.734916     -73.991382   \n",
       "50%         8.500000     -73.981785      40.752670     -73.980126   \n",
       "75%        12.500000     -73.967117      40.767076     -73.963572   \n",
       "max       500.000000    2140.601160    1703.092772      40.851027   \n",
       "\n",
       "             dropLat     passengers      hourOfDay       minOfDay  \\\n",
       "count  499995.000000  499995.000000  499995.000000  499995.000000   \n",
       "mean       39.916526       1.683445      13.510843      29.553972   \n",
       "std         7.391002       1.307391       6.511596      17.333130   \n",
       "min     -2559.748913       0.000000       0.000000       0.000000   \n",
       "25%        40.734057       1.000000       9.000000      14.000000   \n",
       "50%        40.753152       1.000000      14.000000      30.000000   \n",
       "75%        40.768135       2.000000      19.000000      45.000000   \n",
       "max       404.616667       6.000000      23.000000      59.000000   \n",
       "\n",
       "            secOfDay       distance    travel_time  \n",
       "count  499995.000000  499995.000000  499995.000000  \n",
       "mean       15.858145      19.468775       0.687457  \n",
       "std        19.446493     367.299601      12.969619  \n",
       "min         0.000000       0.000000       0.000000  \n",
       "25%         0.000000       1.214550       0.042887  \n",
       "50%         4.000000       2.116970       0.074752  \n",
       "75%        32.000000       3.890070       0.137361  \n",
       "max        59.000000   12399.956433     437.851569  "
      ]
     },
     "execution_count": 36,
     "metadata": {},
     "output_type": "execute_result"
    }
   ],
   "source": [
    "train.describe()"
   ]
  },
  {
   "cell_type": "code",
   "execution_count": 37,
   "metadata": {},
   "outputs": [
    {
     "data": {
      "text/plain": [
       "Text(0.5,1,'Distribution')"
      ]
     },
     "execution_count": 37,
     "metadata": {},
     "output_type": "execute_result"
    },
    {
     "data": {
      "image/png": "[encoded data removed]",
      "text/plain": [
       "<matplotlib.figure.Figure at 0x1a2d1ceac8>"
      ]
     },
     "metadata": {},
     "output_type": "display_data"
    }
   ],
   "source": [
    "train[train.fare < 200].fare.hist(bins=100, figsize=(10,5))\n",
    "plt.xlabel(\"Fare\")\n",
    "plt.title(\"Distribution\")"
   ]
  },
  {
   "cell_type": "code",
   "execution_count": 38,
   "metadata": {},
   "outputs": [],
   "source": [
    "#  using only valid passenger counts\n",
    "validPass = train['passengers'] > 0"
   ]
  },
  {
   "cell_type": "code",
   "execution_count": 39,
   "metadata": {},
   "outputs": [
    {
     "data": {
      "text/plain": [
       "Index(['key', 'fare', 'dateTime', 'pickLong', 'pickLat', 'dropLong', 'dropLat',\n",
       "       'passengers', 'time', 'hourOfDay', 'minOfDay', 'secOfDay', 'distance',\n",
       "       'travel_time', 'PeakOrNot'],\n",
       "      dtype='object')"
      ]
     },
     "execution_count": 39,
     "metadata": {},
     "output_type": "execute_result"
    }
   ],
   "source": [
    "train.columns"
   ]
  },
  {
   "cell_type": "code",
   "execution_count": 40,
   "metadata": {},
   "outputs": [],
   "source": [
    "# feature vector\n",
    "# feature_vec = ['hourOfDay','minOfDay', 'secOfDay','passengers', 'distance']\n",
    "feature_vec = ['pickLong', 'pickLat', 'dropLong', 'dropLat','passengers', 'hourOfDay', 'minOfDay', 'secOfDay', 'distance']"
   ]
  },
  {
   "cell_type": "code",
   "execution_count": 41,
   "metadata": {},
   "outputs": [],
   "source": [
    "# \n",
    "x = train[validPass][feature_vec].values"
   ]
  },
  {
   "cell_type": "code",
   "execution_count": 42,
   "metadata": {},
   "outputs": [],
   "source": [
    "y = train[validPass]['fare'].values"
   ]
  },
  {
   "cell_type": "code",
   "execution_count": 43,
   "metadata": {},
   "outputs": [],
   "source": [
    "trainX, testX, trainY, testY = train_test_split(x,y,test_size=0.3)"
   ]
  },
  {
   "cell_type": "code",
   "execution_count": 44,
   "metadata": {},
   "outputs": [],
   "source": [
    "lrmodel = LinearRegression(normalize=True)"
   ]
  },
  {
   "cell_type": "code",
   "execution_count": 45,
   "metadata": {},
   "outputs": [
    {
     "data": {
      "text/plain": [
       "LinearRegression(copy_X=True, fit_intercept=True, n_jobs=1, normalize=True)"
      ]
     },
     "execution_count": 45,
     "metadata": {},
     "output_type": "execute_result"
    }
   ],
   "source": [
    "lrmodel.fit(trainX, trainY)"
   ]
  },
  {
   "cell_type": "code",
   "execution_count": 46,
   "metadata": {},
   "outputs": [],
   "source": [
    "lrPrediction = lrmodel.predict(testX)\n",
    "pd.DataFrame(lrPrediction, columns=['fare_prediction']).to_csv('LRPrediction.csv')"
   ]
  },
  {
   "cell_type": "code",
   "execution_count": 47,
   "metadata": {},
   "outputs": [
    {
     "data": {
      "text/plain": [
       "10.013152034859864"
      ]
     },
     "execution_count": 47,
     "metadata": {},
     "output_type": "execute_result"
    }
   ],
   "source": [
    "# rmse\n",
    "np.sqrt(mean_squared_error(testY,lrPrediction))"
   ]
  },
  {
   "cell_type": "code",
   "execution_count": 48,
   "metadata": {},
   "outputs": [
    {
     "data": {
      "text/plain": [
       "array([ 0.00124217, -0.00159666,  0.00393209, -0.00101635,  0.10254176,\n",
       "       -0.02985198, -0.00548737,  0.00031404,  0.00072636])"
      ]
     },
     "execution_count": 48,
     "metadata": {},
     "output_type": "execute_result"
    }
   ],
   "source": [
    "lrmodel.coef_"
   ]
  },
  {
   "cell_type": "raw",
   "metadata": {},
   "source": [
    "1. Dataset on holidays\n",
    "2. Dataset on disasters affecting NYC\n",
    "3. Dataset of transport strikes"
   ]
  },
  {
   "cell_type": "code",
   "execution_count": 49,
   "metadata": {},
   "outputs": [],
   "source": [
    "from sklearn.ensemble import RandomForestRegressor"
   ]
  },
  {
   "cell_type": "code",
   "execution_count": 50,
   "metadata": {},
   "outputs": [],
   "source": [
    "# logRx = np.array(train[validPass][feature_vec].values)"
   ]
  },
  {
   "cell_type": "code",
   "execution_count": 51,
   "metadata": {},
   "outputs": [],
   "source": [
    "# logRy = np.array(train[validPass]['fare'].values)"
   ]
  },
  {
   "cell_type": "code",
   "execution_count": 52,
   "metadata": {},
   "outputs": [],
   "source": [
    "# train_f, test_f, train_l, test_l = train_test_split(logRx, logRy, test_size = 0.3)"
   ]
  },
  {
   "cell_type": "code",
   "execution_count": 53,
   "metadata": {},
   "outputs": [],
   "source": [
    "# randomForest = RandomForestRegressor(n_estimators= 1000, random_state=100, max_depth=5)"
   ]
  },
  {
   "cell_type": "code",
   "execution_count": 54,
   "metadata": {},
   "outputs": [],
   "source": [
    "# randomForest.fit(train_f, train_l)"
   ]
  },
  {
   "cell_type": "code",
   "execution_count": 55,
   "metadata": {},
   "outputs": [],
   "source": [
    "# rfPrediction = randomForest.predict(test_f)"
   ]
  },
  {
   "cell_type": "code",
   "execution_count": 56,
   "metadata": {},
   "outputs": [],
   "source": [
    "# e = abs(test_labels - rfPrediction)"
   ]
  },
  {
   "cell_type": "code",
   "execution_count": 57,
   "metadata": {},
   "outputs": [],
   "source": [
    "# train['onlyTime'] = [d.time() for d in train['time']]"
   ]
  },
  {
   "cell_type": "code",
   "execution_count": 58,
   "metadata": {},
   "outputs": [],
   "source": [
    "# from sklearn.neighbors import KNeighborsClassifier"
   ]
  },
  {
   "cell_type": "code",
   "execution_count": 59,
   "metadata": {},
   "outputs": [],
   "source": [
    "# trainX, testX, trainY, testY = train_test_split(x,y,test_size=0.3)"
   ]
  },
  {
   "cell_type": "code",
   "execution_count": 60,
   "metadata": {},
   "outputs": [],
   "source": [
    "# import numpy as np\n",
    "# from sklearn                        import metrics, svm\n",
    "# # from sklearn.linear_model           import LogisticRegression\n",
    "# from sklearn import preprocessing\n",
    "# from sklearn import utils"
   ]
  },
  {
   "cell_type": "code",
   "execution_count": 61,
   "metadata": {},
   "outputs": [],
   "source": [
    "# # lab_enc = preprocessing.LabelEncoder()\n",
    "# training_scores_encoded = lab_enc.fit_transform(trainY)"
   ]
  },
  {
   "cell_type": "code",
   "execution_count": 62,
   "metadata": {},
   "outputs": [],
   "source": [
    "# knnPredictions = knnModel.predict(testX)"
   ]
  },
  {
   "cell_type": "code",
   "execution_count": 64,
   "metadata": {},
   "outputs": [],
   "source": [
    "# pd.DataFrame(knnPredictions, columns=['fare_prediction']).to_csv('knnPrediction.csv')"
   ]
  },
  {
   "cell_type": "code",
   "execution_count": 65,
   "metadata": {},
   "outputs": [],
   "source": [
    "# from sklearn import svm"
   ]
  },
  {
   "cell_type": "code",
   "execution_count": 66,
   "metadata": {},
   "outputs": [],
   "source": [
    "# trainX, testX, trainY, testY = train_test_split(x,y,test_size=0.3)"
   ]
  },
  {
   "cell_type": "code",
   "execution_count": 67,
   "metadata": {},
   "outputs": [],
   "source": [
    "# svmModel = svm.SVR()"
   ]
  },
  {
   "cell_type": "code",
   "execution_count": 68,
   "metadata": {},
   "outputs": [],
   "source": [
    "# svmPrediction = svmModel.predict(testY)"
   ]
  },
  {
   "cell_type": "code",
   "execution_count": 69,
   "metadata": {},
   "outputs": [],
   "source": [
    "trainX, testX, trainY, testY = train_test_split(x,y,test_size=0.3)"
   ]
  },
  {
   "cell_type": "code",
   "execution_count": 80,
   "metadata": {},
   "outputs": [],
   "source": [
    "from sklearn.preprocessing import PolynomialFeatures"
   ]
  },
  {
   "cell_type": "code",
   "execution_count": 81,
   "metadata": {},
   "outputs": [],
   "source": [
    "polyFeatures = PolynomialFeatures(degree=2)"
   ]
  },
  {
   "cell_type": "code",
   "execution_count": 82,
   "metadata": {},
   "outputs": [],
   "source": [
    "trainXdash = polyFeatures.fit_transform(trainX)"
   ]
  },
  {
   "cell_type": "code",
   "execution_count": 83,
   "metadata": {},
   "outputs": [],
   "source": [
    "testXdash = polyFeatures.fit_transform(testX)"
   ]
  },
  {
   "cell_type": "code",
   "execution_count": 84,
   "metadata": {},
   "outputs": [],
   "source": [
    "polyInitialize = LinearRegression()"
   ]
  },
  {
   "cell_type": "code",
   "execution_count": 85,
   "metadata": {},
   "outputs": [
    {
     "data": {
      "text/plain": [
       "LinearRegression(copy_X=True, fit_intercept=True, n_jobs=1, normalize=False)"
      ]
     },
     "execution_count": 85,
     "metadata": {},
     "output_type": "execute_result"
    }
   ],
   "source": [
    "polyInitialize.fit(trainXdash,trainY)"
   ]
  },
  {
   "cell_type": "code",
   "execution_count": 86,
   "metadata": {},
   "outputs": [],
   "source": [
    "polyPredictions = polyInitialize.predict(testXdash)"
   ]
  },
  {
   "cell_type": "code",
   "execution_count": 87,
   "metadata": {},
   "outputs": [],
   "source": [
    "pd.DataFrame(polyPredictions, columns=['fare_prediction']).to_csv('PolyPrediction.csv')"
   ]
  },
  {
   "cell_type": "code",
   "execution_count": null,
   "metadata": {},
   "outputs": [],
   "source": [
    "train = train.cumsum()"
   ]
  },
  {
   "cell_type": "code",
   "execution_count": null,
   "metadata": {},
   "outputs": [],
   "source": []
  }
 ],
 "metadata": {
  "kernelspec": {
   "display_name": "Python 3",
   "language": "python",
   "name": "python3"
  },
  "language_info": {
   "codemirror_mode": {
    "name": "ipython",
    "version": 3
   },
   "file_extension": ".py",
   "mimetype": "text/x-python",
   "name": "python",
   "nbconvert_exporter": "python",
   "pygments_lexer": "ipython3",
   "version": "3.6.4"
  }
 },
 "nbformat": 4,
 "nbformat_minor": 2
}
